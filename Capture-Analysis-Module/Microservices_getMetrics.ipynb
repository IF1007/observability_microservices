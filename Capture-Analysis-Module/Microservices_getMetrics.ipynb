{
 "cells": [
  {
   "cell_type": "markdown",
   "metadata": {},
   "source": [
    "Getting metrics from cAdvisor and storing at csv"
   ]
  },
  {
   "cell_type": "code",
   "execution_count": 5,
   "metadata": {},
   "outputs": [],
   "source": [
    "import requests\n",
    "import pandas as pd\n",
    "import time\n",
    "\n",
    "robotShopCart = 'http://localhost:8081/api/v1.0/containers/docker/ca046300d1f9ffdb5da49f03fc2324251c7a725da34c47037d10b0521286c593'\n",
    "url = 'http://localhost:8081/api/v1.0/containers/docker/1d1cc685d9351888c819859a01491e06f9cd37bf70da89d54f9cb93eeb68ec4e'\n",
    "r = requests.get(robotShopCart)\n",
    "result = r.json()\n",
    "containerStats = result['stats']\n",
    "\n",
    "#Memory and CPU Stats\n",
    "memoryStats = []\n",
    "\n",
    "for el in containerStats:\n",
    "    memoryStats = el['memory']"
   ]
  },
  {
   "cell_type": "code",
   "execution_count": 2,
   "metadata": {},
   "outputs": [
    {
     "data": {
      "text/plain": [
       "{'usage': 52146176,\n",
       " 'max_usage': 79736832,\n",
       " 'cache': 22200320,\n",
       " 'rss': 22917120,\n",
       " 'swap': 0,\n",
       " 'mapped_file': 11218944,\n",
       " 'working_set': 41766912,\n",
       " 'failcnt': 0}"
      ]
     },
     "execution_count": 2,
     "metadata": {},
     "output_type": "execute_result"
    }
   ],
   "source": [
    "memoryStats.pop('container_data')\n",
    "memoryStats.pop('hierarchical_data')\n",
    "memoryStats\n"
   ]
  },
  {
   "cell_type": "code",
   "execution_count": 9,
   "metadata": {},
   "outputs": [],
   "source": [
    "df = pd.DataFrame(memoryStats, index=[0])\n",
    "df = df.drop(['swap', 'working_set', 'failcnt', 'rss', 'mapped_file'], axis=1)\n",
    "df.to_csv('memory_stats_robot_cart.csv', mode='a', header=False, index=False)"
   ]
  },
  {
   "cell_type": "code",
   "execution_count": 11,
   "metadata": {},
   "outputs": [
    {
     "name": "stdout",
     "output_type": "stream",
     "text": [
      "Wait until all requests has been done...\n",
      "Wait until all requests has been done...\n",
      "Wait until all requests has been done...\n",
      "Everything's cool, csv file has been sucessfully generated !\n"
     ]
    }
   ],
   "source": [
    "def requestAndSave(numberOfRequests):\n",
    "    \n",
    "    for i in range (numberOfRequests):\n",
    "        robotShopCart = 'http://localhost:8081/api/v1.0/containers/docker/ca046300d1f9ffdb5da49f03fc2324251c7a725da34c47037d10b0521286c593'\n",
    "        url = 'http://localhost:8081/api/v1.0/containers/docker/1d1cc685d9351888c819859a01491e06f9cd37bf70da89d54f9cb93eeb68ec4e'\n",
    "        r = requests.get(robotShopCart)\n",
    "        result = r.json()\n",
    "        containerStats = result['stats']\n",
    "\n",
    "        #Memory and CPU Stats\n",
    "        memoryStats = []\n",
    "\n",
    "        for el in containerStats:\n",
    "            memoryStats = el['memory']\n",
    "    \n",
    "        memoryStats.pop('container_data')\n",
    "        memoryStats.pop('hierarchical_data')\n",
    "        memoryStats\n",
    "\n",
    "        df = pd.DataFrame(memoryStats, index=[0])\n",
    "        df = df.drop(['swap', 'working_set', 'failcnt', 'rss', 'mapped_file'], axis=1)\n",
    "        df.to_csv('memory_stats_robot_cart.csv', mode='a', header=False, index=False)\n",
    "        \n",
    "        time.sleep(2)\n",
    "        print(\"Wait until all requests has been done...\")\n",
    "    \n",
    "    print(\"Everything's cool, csv file has been sucessfully generated !\")\n",
    "    \n",
    "requestAndSave(3)"
   ]
  },
  {
   "cell_type": "code",
   "execution_count": null,
   "metadata": {},
   "outputs": [],
   "source": []
  }
 ],
 "metadata": {
  "kernelspec": {
   "display_name": "Python 3",
   "language": "python",
   "name": "python3"
  },
  "language_info": {
   "codemirror_mode": {
    "name": "ipython",
    "version": 3
   },
   "file_extension": ".py",
   "mimetype": "text/x-python",
   "name": "python",
   "nbconvert_exporter": "python",
   "pygments_lexer": "ipython3",
   "version": "3.8.3"
  }
 },
 "nbformat": 4,
 "nbformat_minor": 4
}
